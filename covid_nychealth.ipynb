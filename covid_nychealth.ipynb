{
  "nbformat": 4,
  "nbformat_minor": 0,
  "metadata": {
    "colab": {
      "name": "covid-nychealth.ipynb",
      "provenance": [],
      "authorship_tag": "ABX9TyPEdcvMUhxFdlr4zgNoVRmO",
      "include_colab_link": true
    },
    "kernelspec": {
      "name": "python3",
      "display_name": "Python 3"
    }
  },
  "cells": [
    {
      "cell_type": "markdown",
      "metadata": {
        "id": "view-in-github",
        "colab_type": "text"
      },
      "source": [
        "<a href=\"https://colab.research.google.com/github/mimiflynn/covid-data/blob/master/covid_nychealth.ipynb\" target=\"_parent\"><img src=\"https://colab.research.google.com/assets/colab-badge.svg\" alt=\"Open In Colab\"/></a>"
      ]
    },
    {
      "cell_type": "code",
      "metadata": {
        "id": "BqJrwfKQKcSN",
        "colab_type": "code",
        "colab": {}
      },
      "source": [
        "from datetime import datetime\n",
        "from datetime import timedelta\n",
        "import pandas as pd\n",
        "import numpy as np\n",
        "import matplotlib.pyplot as plt\n",
        "plt.close('all')\n",
        "plt.figure()"
      ],
      "execution_count": 0,
      "outputs": []
    },
    {
      "cell_type": "code",
      "metadata": {
        "id": "4B2WAsaEKgze",
        "colab_type": "code",
        "colab": {}
      },
      "source": [
        "today = datetime.today()\n",
        "print('Last run at:')\n",
        "print(today)"
      ],
      "execution_count": 0,
      "outputs": []
    },
    {
      "cell_type": "code",
      "metadata": {
        "id": "DI8fusaVKLLv",
        "colab_type": "code",
        "colab": {}
      },
      "source": [
        "# https://github.com/nychealth/coronavirus-data\n",
        "boro = pd.read_csv('https://raw.githubusercontent.com/nychealth/coronavirus-data/master/boro.csv')\n",
        "by_age = pd.read_csv('https://raw.githubusercontent.com/nychealth/coronavirus-data/master/by-age.csv')\n",
        "by_sex = pd.read_csv('https://raw.githubusercontent.com/nychealth/coronavirus-data/master/by-sex.csv')\n",
        "case_hosp_death = pd.read_csv('https://raw.githubusercontent.com/nychealth/coronavirus-data/master/case-hosp-death.csv')\n",
        "summary = pd.read_csv('https://raw.githubusercontent.com/nychealth/coronavirus-data/master/summary.csv')\n",
        "tests_by_zcta = pd.read_csv('https://raw.githubusercontent.com/nychealth/coronavirus-data/master/tests-by-zcta.csv')"
      ],
      "execution_count": 0,
      "outputs": []
    }
  ]
}